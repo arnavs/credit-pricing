{
 "cells": [
  {
   "cell_type": "markdown",
   "metadata": {},
   "source": [
    "### Static Equilibrium\n",
    "\n",
    "In this notebook, we will derive, interpret, and simulate the static equilibrium of the model.\n",
    "\n",
    "Last edited: Wed. 1/23/19, by Arnav Sood"
   ]
  },
  {
   "cell_type": "code",
   "execution_count": 2,
   "metadata": {},
   "outputs": [
    {
     "data": {
      "application/javascript": [
       "MathJax.Hub.Queue(\n",
       "  [\"resetEquationNumbers\", MathJax.InputJax.TeX],\n",
       "  [\"PreProcess\", MathJax.Hub],\n",
       "  [\"Reprocess\", MathJax.Hub]\n",
       ");\n"
      ]
     },
     "metadata": {},
     "output_type": "display_data"
    }
   ],
   "source": [
    "# For equation numbering\n",
    "macro javascript_str(s) display(\"text/javascript\", s); end\n",
    "    \n",
    "javascript\"\"\"\n",
    "MathJax.Hub.Queue(\n",
    "  [\"resetEquationNumbers\", MathJax.InputJax.TeX],\n",
    "  [\"PreProcess\", MathJax.Hub],\n",
    "  [\"Reprocess\", MathJax.Hub]\n",
    ");\n",
    "\"\"\""
   ]
  },
  {
   "cell_type": "markdown",
   "metadata": {},
   "source": [
    "### Market's Problem\n",
    "\n",
    "Begin with the formula for the Inflow Prior $\\lambda^I$\n",
    "\n",
    "\\begin{equation} \n",
    "\\lambda^I = \\frac{e_H \\lambda}{e_H \\lambda + e_L (1 - \\lambda}\n",
    "\\end{equation}\n",
    "\n",
    "Recall the formula for the final signal-dependent prior, $\\lambda^o(h; m)$, in terms of the above:\n",
    "\n",
    "\\begin{equation} \n",
    "\\lambda^o(h; m) = \\frac{\\lambda^I}{\\lambda^I + (1-\\lambda^I)\\phi}\n",
    "\\end{equation}\n",
    "\n",
    "This can be rearranged to express $\\lambda^o(h; m)$ (hereafter $\\lambda^o(h)$, for convenience), in terms of model primitives:\n",
    "\n",
    "\\begin{equation} \n",
    "\\lambda^o(h) = \\frac{e_H \\lambda}{e_H \\lambda + \\phi e_L (1 - \\lambda)}\n",
    "\\end{equation}\n",
    "\n",
    "This passes a sanity check, since it says that the final prior is the share of high types, out of all those who get the high signal (high types + $\\phi$ times low types)"
   ]
  },
  {
   "cell_type": "markdown",
   "metadata": {},
   "source": [
    "### Firms' Problem\n",
    "\n",
    "Firms here are mechanistic, acting according to:\n",
    "\n",
    "\\begin{equation}\n",
    "V_i = \\max_{\\text{entry}, \\text{no entry}}\\{\\omega_i, \\phi_i R - p\\}\n",
    "\\end{equation}\n",
    "\n",
    "in the constraint region.\n",
    "\n",
    "Assuming an interior solution (that is, one where $e_H, e_L \\in (0, 1)$ strictly), we have:\n",
    "\n",
    "\\begin{align}\n",
    "e_H &= F_H(R - p) \\\\ \n",
    "e_L &= F_L(\\phi R - p)\n",
    "\\end{align}\n",
    "\n",
    "Note that $e_H, e_L$ are but **fractions** of firms of each type that enter the market, and need to be multiplied by their respective (prior) masses, $\\lambda, 1 - \\lambda$, to have meaning.\n",
    "\n",
    "We assumed earlier that the constraint is not violated. Or:\n",
    "\n",
    "\\begin{align}\n",
    "\\lambda^o(h) &\\geq \\underline{\\lambda} \\\\ \n",
    "\\frac{e_H \\lambda}{e_H \\lambda + \\phi e_L (1 - \\lambda)} &\\geq \\underline{\\lambda} \\\\ \n",
    "e_H \\lambda (1 - \\underline{\\lambda}) &\\geq \\underline{\\lambda} \\phi e_L (1 - \\lambda) \\\\ \n",
    "\\phi &\\leq \\frac{e_H \\lambda (1 - \\underline{\\lambda})}{e_L \\underline{\\lambda} (1 - \\lambda)}\n",
    "\\end{align}\n",
    "\n",
    "This will be our chief constraint. For ease of reference, we can call this the **market credulity constraint.**"
   ]
  },
  {
   "cell_type": "markdown",
   "metadata": {},
   "source": [
    "### Rater's Problem\n",
    "\n",
    "A forward-looking credit rater, who (for convenience) shares a common prior with the market about the type-distribution of firms, is then seeking to solve the following problem:\n",
    "\n",
    "\n",
    "\\begin{align}\n",
    "\\max_{\\phi \\in [0, 1], p \\geq 0} p \\left\\{ F_H(R - p) \\lambda + F_L(\\phi R - p)(1 - \\lambda) \\right\\}\n",
    "\\end{align}\n",
    "\n",
    "subject to: \n",
    "\n",
    "\\begin{equation}\n",
    "\\phi \\leq \\frac{e_H \\lambda (1 - \\underline{\\lambda})}{e_L \\underline{\\lambda} (1 - \\lambda)}\n",
    "\\end{equation}\n",
    "\n",
    "We can write the following Lagrangian (assuming the problem is suitable, which we will have to show later): \n",
    "\n",
    "\\begin{equation}\n",
    "L = p \\left\\{ F_H(R - p) \\lambda + F_L(\\phi R - p)(1 - \\lambda) \\right\\} - \\mu (\\log \\phi + \\log F_L(\\phi R - p) - \\log F_H(R - p) - \\log \\tau)\n",
    "\\end{equation}\n",
    "\n",
    "Where \n",
    "\n",
    "\\begin{equation}\n",
    "\\tau \\equiv \\frac{\\lambda(1 - \\underline{\\lambda})}{\\underline{\\lambda}(1-\\lambda)}\n",
    "\\end{equation}\n",
    "\n",
    "We can derive first-order conditions:\n",
    "\n",
    "#### FOC $\\phi$\n",
    "\n",
    "\\begin{equation}\n",
    "p R (1 - \\lambda) f_L(\\phi R - p) = \\mu \\left(\\frac{1}{\\phi} + \\frac{R f_L(\\phi R - p)}{F_L(\\phi R - p)}\\right)\n",
    "\\end{equation}\n",
    "\n",
    "#### FOC $p$\n",
    "\n",
    "\\begin{equation}\n",
    "F_H(R - p)\\lambda + F_L(\\phi R - p)(1 - \\lambda) - p[f_H(R - p)\\lambda + f_L(\\phi R - p)(1 - \\lambda)] + \\mu \\left(\\frac{f_L(\\phi R - p)}{F_L(\\phi R - p)} - \\frac{f_H(R - p)}{F_H(R - p)} \\right) = 0\n",
    "\\end{equation}\n",
    "\n",
    "#### Complementary Slackness\n",
    "\n",
    "\\begin{equation}\n",
    "\\mu (\\log \\phi + \\log F_L (\\phi R - p) - \\log F_H (R - p) - \\log \\tau) = 0\n",
    "\\end{equation}"
   ]
  },
  {
   "cell_type": "markdown",
   "metadata": {},
   "source": [
    "#### Model Solution\n",
    "\n",
    "Rewriting (15), we can derive an expression for the Lagrange/KKT multiplier:\n",
    "\n",
    "\\begin{equation}\n",
    "\\mu = \\frac{\\phi (1 - \\lambda)F_L(\\phi R - p)R \\cdot f_L(\\phi R - p)}{F_L(\\phi R - p) + \\phi R f_L(\\phi R - p)}\n",
    "\\end{equation}\n",
    "\n",
    "We can make some observations here. \n",
    "\n",
    "1. The term to the left of the $\\cdot$ is total payoff earned on the public market by low-type firms.\n",
    "\n",
    "2. The multiplier is nonzero iff (1) the $\\phi$ parameter is nonzero, (2) the market reward is nonzero, (3) the price is nonzero, (4) $\\lambda$ is not 1 (i.e., rater and market must believe $\\exists$ some low-type firms), and (5) **both** $f_L$ and $F_L$ are nonzero (i.e., there has been some entry, and the density function is not locally flat, so a small perturbation yields rewards).\n",
    "\n",
    "Assuming the above parameter restrictions hold, we know the complementary slackness condition can be divided through by $\\mu$, to yield a binding constraint."
   ]
  },
  {
   "cell_type": "markdown",
   "metadata": {},
   "source": [
    "### Interpretation"
   ]
  },
  {
   "cell_type": "markdown",
   "metadata": {},
   "source": [
    "### Implementation and Comparative Statics\n",
    "\n",
    "In general, we have a system of 3 equations (15, 16, 17) in 3 unknowns ($\\phi$, $p$, $\\mu$). We can feed this to a nonlinear solver.\n",
    "\n",
    "First, define a holder for model primitives."
   ]
  },
  {
   "cell_type": "markdown",
   "metadata": {},
   "source": [
    "#### Setup and Introduction"
   ]
  },
  {
   "cell_type": "code",
   "execution_count": 2,
   "metadata": {},
   "outputs": [],
   "source": [
    "using Parameters, Distributions"
   ]
  },
  {
   "cell_type": "code",
   "execution_count": 3,
   "metadata": {},
   "outputs": [
    {
     "data": {
      "text/plain": [
       "#3 (generic function with 2 methods)"
      ]
     },
     "execution_count": 3,
     "metadata": {},
     "output_type": "execute_result"
    }
   ],
   "source": [
    "Model = @with_kw (λ = 0.5, # share of good firms\n",
    "                  R = 2, # market payoff\n",
    "                  λ_bar = 0.74, # market credulity threshold\n",
    "                  ω_H = Uniform(1.5, 2.5), # High-type distribution of outside options\n",
    "                  ω_L = Uniform(1.01, 2.01), # Low-type distribution of outside options\n",
    "                  f_L = x -> pdf(ω_L, x),\n",
    "                  f_H = x -> pdf(ω_H, x),\n",
    "                  F_L = x -> cdf(ω_L, x),\n",
    "                  F_H = x -> cdf(ω_H, x)\n",
    "           )"
   ]
  },
  {
   "cell_type": "markdown",
   "metadata": {},
   "source": [
    "Before proceeding, it's worh examining how this object we created works.\n",
    "\n",
    "If we call it without arguments, it will the default values we supplied."
   ]
  },
  {
   "cell_type": "code",
   "execution_count": 12,
   "metadata": {},
   "outputs": [
    {
     "name": "stdout",
     "output_type": "stream",
     "text": [
      "(m.λ, m.R) = (0.5, 2)\n"
     ]
    },
    {
     "data": {
      "text/plain": [
       "(0.5, 2)"
      ]
     },
     "execution_count": 12,
     "metadata": {},
     "output_type": "execute_result"
    }
   ],
   "source": [
    "m = Model();\n",
    "@show m.λ, m.R, # defaults"
   ]
  },
  {
   "cell_type": "markdown",
   "metadata": {},
   "source": [
    "But we can also supply specific arguments."
   ]
  },
  {
   "cell_type": "code",
   "execution_count": 13,
   "metadata": {},
   "outputs": [
    {
     "name": "stdout",
     "output_type": "stream",
     "text": [
      "(m.λ, m.R) = (0.3, 20)\n"
     ]
    },
    {
     "data": {
      "text/plain": [
       "(0.3, 20)"
      ]
     },
     "execution_count": 13,
     "metadata": {},
     "output_type": "execute_result"
    }
   ],
   "source": [
    "m = Model(λ = 0.3, R = 20, ω_H = Uniform(1., 21.));\n",
    "@show m.λ, m.R"
   ]
  },
  {
   "cell_type": "markdown",
   "metadata": {},
   "source": [
    "It is preferred to use these things instead of a struct (i.e., the code below) for two reasons. \n",
    "\n",
    "1. Simplicity. Compare the code above to:\n",
    "\n",
    "```\n",
    "struct Model{TF <: AbstractFloat, TI <: Integer, ...}\n",
    "λ::TF \n",
    "R::TI\n",
    "...\n",
    "```\n",
    "\n",
    "2. Correctness. If you are writing a `struct` by hand, then to get equal performance to a named tuple (the kind of thing we generate with a `Model()` call), we need to get the type parameterization (i.e., the `TF, TI`, etc.) exactly right. This is complicated by the fact that we use objects that are themselves parametrically typed (such as `Uniform{Float64}(a = 1.01, b = 2.01)`, for the distributions)."
   ]
  },
  {
   "cell_type": "markdown",
   "metadata": {},
   "source": [
    "#### Computational Solution\n",
    "\n",
    "Define a baseline model."
   ]
  },
  {
   "cell_type": "code",
   "execution_count": 6,
   "metadata": {},
   "outputs": [],
   "source": [
    "m = Model(R = 1.5);"
   ]
  },
  {
   "cell_type": "markdown",
   "metadata": {},
   "source": [
    "Write code to take guesses for $\\phi, p, \\mu$, and a model $m$, and calculate the residuals for the three equations."
   ]
  },
  {
   "cell_type": "code",
   "execution_count": 7,
   "metadata": {},
   "outputs": [
    {
     "ename": "LoadError",
     "evalue": "syntax: \"\\\" is not a unary operator",
     "output_type": "error",
     "traceback": [
      "syntax: \"\\\" is not a unary operator",
      ""
     ]
    }
   ],
   "source": [
    "function residuals(vals; model = m)\n",
    "    # unpack inputs\n",
    "    @unpack λ, R, λ_bar, ω_H, ω_L, f_L, f_H, F_L, F_H = model\n",
    "    ϕ, p, μ = vals # so vals is some vector [ϕ, p, μ]\n",
    "    # define τ\n",
    "    τ = λ*(1 - λ_bar)/(λ_bar * (1 - λ))\n",
    "    # calculate residuals\n",
    "    ϕ_residual = ϕ > 0 && F_L(ϕ*R - p) > 0 ? p*R*(1-λ)*f_L(ϕ*R - p) - μ*(1/ϕ + R*f_L(ϕ*R - p)/F_L(ϕ*R -p)) : 100 # (15) (return 100 for invalid residual expressions)\n",
    "    p_residual = F_L(ϕ*R - p) > 0 && F_H(R - p) > 0 ? F_H(R - p)*λ + F_L(ϕ*R - p)*(1 - λ) - p*(f_H(R - p) + f_L(ϕ*R - p)) + μ*(f_L(ϕ*R - p)/F_L(ϕ*R - p) - f_H(R - p)/F_H(R - p)) : 100 # (16)\n",
    "    μ_residual =sol ϕ > 0 && τ > 0 && F_L(ϕ*R - p) > 0 && F_H(R - p) > 0 ? μ*(log(ϕ) + log(F_L(ϕ*R - p)) - log(F_H(R - p)) - log(τ)) : 100 # (17)\n",
    "    # return \n",
    "    residuals = [ϕ_residual, p_residual, μ_residual]\n",
    "end"
   ]
  },
  {
   "cell_type": "markdown",
   "metadata": {},
   "source": [
    "Pass this to the solver."
   ]
  },
  {
   "cell_type": "code",
   "execution_count": 8,
   "metadata": {},
   "outputs": [],
   "source": [
    "using NLsolve # https://github.com/JuliaNLSolvers/NLsolve.jl, one of the main Julia solvers"
   ]
  },
  {
   "cell_type": "code",
   "execution_count": 9,
   "metadata": {},
   "outputs": [
    {
     "ename": "UndefVarError",
     "evalue": "UndefVarError: residuals not defined",
     "output_type": "error",
     "traceback": [
      "UndefVarError: residuals not defined",
      "",
      "Stacktrace:",
      " [1] top-level scope at util.jl:156",
      " [2] top-level scope at In[9]:1"
     ]
    }
   ],
   "source": [
    "@time result = nlsolve(residuals, [0.001, 0.001, 0.], inplace = false, store_trace = true, iterations = 10^6)"
   ]
  }
 ],
 "metadata": {
  "kernelspec": {
   "display_name": "Julia 1.0.2",
   "language": "julia",
   "name": "julia-1.0"
  },
  "language_info": {
   "file_extension": ".jl",
   "mimetype": "application/julia",
   "name": "julia",
   "version": "1.0.2"
  }
 },
 "nbformat": 4,
 "nbformat_minor": 2
}
